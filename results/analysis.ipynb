{
 "cells": [
  {
   "cell_type": "code",
   "execution_count": 1,
   "metadata": {
    "collapsed": true
   },
   "outputs": [],
   "source": [
    "%matplotlib inline\n",
    "import itertools\n",
    "import pandas as pd\n",
    "import numpy as np\n",
    "import matplotlib.pyplot as plt\n",
    "from sklearn.metrics import roc_curve, roc_auc_score, auc\n",
    "from sklearn.naive_bayes import MultinomialNB\n",
    "from sklearn.model_selection import StratifiedKFold\n",
    "import warnings\n",
    "warnings.filterwarnings('ignore')"
   ]
  },
  {
   "cell_type": "markdown",
   "metadata": {},
   "source": [
    "### Read data files"
   ]
  },
  {
   "cell_type": "code",
   "execution_count": 2,
   "metadata": {
    "collapsed": true
   },
   "outputs": [],
   "source": [
    "df_all = pd.read_csv('./data/data_all.csv')\n",
    "df_all.fillna(0, inplace=True)\n",
    "df_all.Calcs1.replace(0, 'None', inplace=True)\n",
    "\n",
    "df_test = pd.read_csv('./data/data_test.csv')\n",
    "\n",
    "df_cv = pd.read_csv('./data/predictions_cv.csv')"
   ]
  },
  {
   "cell_type": "code",
   "execution_count": 4,
   "metadata": {},
   "outputs": [],
   "source": [
    "df_all['Size'] = df_all.apply(lambda x: max(x.Length, x.Width, x.Thickness), axis=1)\n",
    "df_test['Size'] = df_test.apply(lambda x: max(x.Length, x.Width, x.Thickness), axis=1)"
   ]
  },
  {
   "cell_type": "markdown",
   "metadata": {},
   "source": [
    "### Split into train and test sets"
   ]
  },
  {
   "cell_type": "code",
   "execution_count": 6,
   "metadata": {},
   "outputs": [],
   "source": [
    "test_ids = df_test['ID'].as_matrix()\n",
    "cv_ids = df_cv['ID'].as_matrix()\n",
    "\n",
    "df_cv = df_all[df_all.ID.isin(cv_ids)]\n",
    "df_test = df_all[df_all.ID.isin(test_ids)]"
   ]
  },
  {
   "cell_type": "markdown",
   "metadata": {
    "collapsed": true
   },
   "source": [
    "### Get statistics"
   ]
  },
  {
   "cell_type": "code",
   "execution_count": 9,
   "metadata": {},
   "outputs": [
    {
     "name": "stdout",
     "output_type": "stream",
     "text": [
      "Number of patients:\n",
      "Test: 91\n",
      "Train: 1139\n",
      "All: 1227\n"
     ]
    }
   ],
   "source": [
    "print('Number of patients:')\n",
    "test_ids = [x.split('_')[0] for x in test_ids]\n",
    "test_ids = set(test_ids)\n",
    "print('Test: {}'.format(len(test_ids)))\n",
    "cv_ids = [x.split('_')[0] for x in cv_ids]\n",
    "cv_ids = set(cv_ids)\n",
    "print('Train: {}'.format(len(cv_ids)))\n",
    "print('All: {}'.format(len(cv_ids.union(test_ids))))"
   ]
  },
  {
   "cell_type": "code",
   "execution_count": 11,
   "metadata": {},
   "outputs": [
    {
     "name": "stdout",
     "output_type": "stream",
     "text": [
      "Number of cases:\n",
      "Train: 1278\n",
      "Train benign: 1151\n",
      "Train malignant: 127\n",
      "Test: 99\n",
      "Test benign: 84\n",
      "Test malignant: 15\n"
     ]
    }
   ],
   "source": [
    "print('Number of cases:')\n",
    "print('Train: {}'.format(len(df_cv)))\n",
    "print('Train benign: {}'.format(len(df_cv[df_cv.Cancer == 0])))\n",
    "print('Train malignant: {}'.format(len(df_cv[df_cv.Cancer == 1])))\n",
    "print('Test: {}'.format(len(df_test)))\n",
    "print('Test benign: {}'.format(len(df_test[df_test.Cancer == 0])))\n",
    "print('Test malignant: {}'.format(len(df_test[df_test.Cancer == 1])))"
   ]
  },
  {
   "cell_type": "code",
   "execution_count": 14,
   "metadata": {},
   "outputs": [
    {
     "name": "stdout",
     "output_type": "stream",
     "text": [
      "Mean age:\n",
      "Train: 53.2472613459\n",
      "Test: 52.3232323232\n",
      "All: 53.1808278867\n"
     ]
    }
   ],
   "source": [
    "print('Mean age:')\n",
    "print('Train: {}'.format(np.mean(df_cv.Age)))\n",
    "print('Test: {}'.format(np.mean(df_test.Age)))\n",
    "all_age = list(df_test.Age.as_matrix()) + list(df_cv.Age.as_matrix())\n",
    "print('All: {}'.format(np.mean(all_age)))"
   ]
  },
  {
   "cell_type": "code",
   "execution_count": 17,
   "metadata": {},
   "outputs": [
    {
     "name": "stdout",
     "output_type": "stream",
     "text": [
      "Mean size (STD):\n",
      "Train: 25.9248826291 (14.8328398064)\n",
      "Test: 26.8787878788 (12.7455856706)\n",
      "All: 25.9934640523 (14.6947379705)\n"
     ]
    }
   ],
   "source": [
    "print('Mean size (STD):')\n",
    "print('Train: {} ({})'.format(np.mean(df_cv.Size), np.std(df_cv.Size)))\n",
    "print('Test: {} ({})'.format(np.mean(df_test.Size), np.std(df_test.Size)))\n",
    "all_size = list(df_test.Size.as_matrix()) + list(df_cv.Size.as_matrix())\n",
    "print('All: {} ({})'.format(np.mean(all_size), np.std(all_size)))"
   ]
  },
  {
   "cell_type": "code",
   "execution_count": null,
   "metadata": {
    "collapsed": true
   },
   "outputs": [],
   "source": []
  }
 ],
 "metadata": {
  "kernelspec": {
   "display_name": "Python 2",
   "language": "python",
   "name": "python2"
  },
  "language_info": {
   "codemirror_mode": {
    "name": "ipython",
    "version": 2
   },
   "file_extension": ".py",
   "mimetype": "text/x-python",
   "name": "python",
   "nbconvert_exporter": "python",
   "pygments_lexer": "ipython2",
   "version": "2.7.14"
  }
 },
 "nbformat": 4,
 "nbformat_minor": 2
}
