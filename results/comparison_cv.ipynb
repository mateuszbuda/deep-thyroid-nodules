{
 "cells": [
  {
   "cell_type": "code",
   "execution_count": 1,
   "metadata": {
    "collapsed": true
   },
   "outputs": [],
   "source": [
    "%matplotlib inline\n",
    "import itertools\n",
    "import pandas as pd\n",
    "import numpy as np\n",
    "import matplotlib.pyplot as plt\n",
    "from sklearn.metrics import roc_curve, roc_auc_score, auc\n",
    "from scipy.stats import percentileofscore\n",
    "import warnings\n",
    "warnings.filterwarnings('ignore')"
   ]
  },
  {
   "cell_type": "markdown",
   "metadata": {},
   "source": [
    "### Helper functions"
   ]
  },
  {
   "cell_type": "code",
   "execution_count": 13,
   "metadata": {
    "collapsed": true
   },
   "outputs": [],
   "source": [
    "def plot_roc(fpr, tpr, roc_auc, color='darkorange', label=''):\n",
    "    label = label + '(ROC area = %0.2f)' % roc_auc\n",
    "    plt.plot(fpr, tpr, color=color,\n",
    "             lw=2, label=label)\n",
    "    plt.legend(loc=\"lower right\")\n",
    "\n",
    "\n",
    "def roc_auc_ci(y_true, y_pred, float_precision=2):\n",
    "    y_true = np.array(y_true)\n",
    "    y_pred = np.array(y_pred)\n",
    "\n",
    "    n_bootstraps = 2000\n",
    "    rng_seed = 42  # control reproducibility\n",
    "    bootstrapped_scores = []\n",
    "\n",
    "    rng = np.random.RandomState(rng_seed)\n",
    "    for i in range(n_bootstraps):\n",
    "        # bootstrap by sampling with replacement on the prediction indices\n",
    "        indices = rng.random_integers(0, len(y_pred) - 1, len(y_pred))\n",
    "        if len(np.unique(y_true[indices])) < 2:\n",
    "            # We need at least one positive and one negative sample for ROC AUC\n",
    "            # to be defined: reject the sample\n",
    "            continue\n",
    "\n",
    "        score = roc_auc_score(y_true[indices], y_pred[indices])\n",
    "        score = np.round(score, float_precision)\n",
    "        bootstrapped_scores.append(score)\n",
    "\n",
    "    sorted_scores = np.array(bootstrapped_scores)\n",
    "    sorted_scores.sort()\n",
    "    confidence_lower = sorted_scores[int(round(0.025 * len(sorted_scores)))]\n",
    "    confidence_upper = sorted_scores[int(round(0.975 * len(sorted_scores)))]\n",
    "    \n",
    "    score = roc_auc_score(y_true, y_pred)\n",
    "    score = np.round(score, float_precision)\n",
    "\n",
    "    return confidence_lower, score, confidence_upper"
   ]
  },
  {
   "cell_type": "markdown",
   "metadata": {},
   "source": [
    "### Read data files"
   ]
  },
  {
   "cell_type": "code",
   "execution_count": 3,
   "metadata": {
    "collapsed": true
   },
   "outputs": [],
   "source": [
    "df_all = pd.read_csv('./data/data_all.csv')\n",
    "df_all.fillna(0, inplace=True)\n",
    "df_all.Calcs1.replace(0, 'None', inplace=True)\n",
    "\n",
    "df_dl = pd.read_csv('./data/predictions_cv.csv')\n",
    "df_dl_train = pd.read_csv('./data/predictions_cv_train.csv')\n",
    "df_dl_fold = {}\n",
    "for i in range(10):\n",
    "    df_dl_fold[i] = df_dl_train[df_dl_train.Fold == i]"
   ]
  },
  {
   "cell_type": "markdown",
   "metadata": {},
   "source": [
    "### Feature processing and engineering"
   ]
  },
  {
   "cell_type": "code",
   "execution_count": 4,
   "metadata": {
    "collapsed": true
   },
   "outputs": [],
   "source": [
    "categorical_features = ['Composition', 'Echogenicity', 'Shape', 'Calcs1', 'Calcs2', 'Calcs3', 'MargA']"
   ]
  },
  {
   "cell_type": "code",
   "execution_count": 5,
   "metadata": {
    "collapsed": true
   },
   "outputs": [],
   "source": [
    "df_all_categorical = df_all[categorical_features]\n",
    "df_all_categorical = pd.get_dummies(df_all_categorical)"
   ]
  },
  {
   "cell_type": "code",
   "execution_count": 6,
   "metadata": {},
   "outputs": [
    {
     "name": "stdout",
     "output_type": "stream",
     "text": [
      "Index([u'Composition_Cannot tell', u'Composition_Cystic',\n",
      "       u'Composition_Entirely or almost entirely solid',\n",
      "       u'Composition_Mixed cystic_solid', u'Composition_Spongiform',\n",
      "       u'Echogenicity_Cant classify', u'Echogenicity_Hyper',\n",
      "       u'Echogenicity_Iso', u'Echogenicity_Mild Hypo',\n",
      "       u'Echogenicity_Very Hypo', u'Shape_cant assess', u'Shape_n', u'Shape_y',\n",
      "       u'MargA_Cant classify', u'MargA_Ill-defined', u'MargA_Lobulated',\n",
      "       u'MargA_Well-defined', u'Calcs_None', u'Calcs_Peripheral_eggshell',\n",
      "       u'Calcs_Colloid', u'Calcs_Macro', u'Calcs_PEF'],\n",
      "      dtype='object')\n"
     ]
    }
   ],
   "source": [
    "df_features = df_all_categorical\n",
    "df_features['Calcs_None'] = df_features.Calcs1_None\n",
    "df_features['Calcs_Peripheral_eggshell'] = df_features.Calcs1_Peripheral_eggshell + df_features.Calcs2_Peripheral_eggshell + df_features.Calcs3_Peripheral_eggshell\n",
    "df_features['Calcs_Colloid'] = df_features.Calcs1_Colloid + df_features.Calcs2_Colloid\n",
    "df_features['Calcs_Macro'] = df_features.Calcs1_Macro + df_features.Calcs2_Macro\n",
    "df_features['Calcs_PEF'] = df_features.Calcs1_PEF + df_features.Calcs2_PEF\n",
    "df_features.drop(columns=['Shape_0', 'Calcs1_None', 'Calcs2_0', 'Calcs3_0'], inplace=True)\n",
    "df_features.drop(columns=['Calcs1_Peripheral_eggshell', 'Calcs2_Peripheral_eggshell', 'Calcs3_Peripheral_eggshell'], inplace=True)\n",
    "df_features.drop(columns=['Calcs1_Colloid', 'Calcs2_Colloid'], inplace=True)\n",
    "df_features.drop(columns=['Calcs1_Macro', 'Calcs2_Macro'], inplace=True)\n",
    "df_features.drop(columns=['Calcs1_PEF', 'Calcs2_PEF'], inplace=True)\n",
    "print(df_features.columns)"
   ]
  },
  {
   "cell_type": "markdown",
   "metadata": {},
   "source": [
    "### Remove rows not present in deep learning data frame"
   ]
  },
  {
   "cell_type": "code",
   "execution_count": 7,
   "metadata": {},
   "outputs": [
    {
     "name": "stdout",
     "output_type": "stream",
     "text": [
      "1278\n"
     ]
    }
   ],
   "source": [
    "df_features['ID'] = df_all['ID']\n",
    "cv_ids = np.intersect1d(df_all['ID'], df_dl['ID'])\n",
    "df_features = df_features[df_features.ID.isin(cv_ids)]\n",
    "df_cv = df_all[df_all.ID.isin(cv_ids)]\n",
    "print(len(df_features))"
   ]
  },
  {
   "cell_type": "markdown",
   "metadata": {},
   "source": [
    "### Get size for TI-RADS and DL"
   ]
  },
  {
   "cell_type": "code",
   "execution_count": 8,
   "metadata": {
    "collapsed": true
   },
   "outputs": [],
   "source": [
    "df_all['Size'] = df_all.apply(lambda x: max(x.Length, x.Width, x.Thickness), axis=1)\n",
    "df_features = df_features.merge(df_all[['ID', 'Size']], on='ID')\n",
    "size_tirads = df_features['Size'].as_matrix().flatten()\n",
    "features_ids = df_features['ID'].as_matrix().flatten()\n",
    "df_features.drop(columns=['ID', 'Size'], inplace=True)\n",
    "\n",
    "df_dl = df_dl.merge(df_all[['ID', 'Size']], on='ID')\n",
    "size_dl = df_dl['Size'].as_matrix().flatten()"
   ]
  },
  {
   "cell_type": "markdown",
   "metadata": {},
   "source": [
    "### Prediction based on TI-RADS"
   ]
  },
  {
   "cell_type": "code",
   "execution_count": 9,
   "metadata": {
    "collapsed": true
   },
   "outputs": [],
   "source": [
    "w = np.array([[2, 0, 2, 1, 0, 1, 1, 1, 2, 3, 0, 0, 3, 0, 0, 2, 0, 0, 2, 0, 1, 3]])\n",
    "\n",
    "X_cv = df_features.as_matrix()\n",
    "\n",
    "x_cyst = X_cv[:, 1]\n",
    "x_cyst = np.abs(x_cyst - 1)\n",
    "x_spon = X_cv[:, 4]\n",
    "x_spon = np.abs(x_spon - 1)\n",
    "\n",
    "X_cv = X_cv * np.expand_dims(x_cyst, axis=-1)\n",
    "X_cv = X_cv * np.expand_dims(x_spon, axis=-1)\n",
    "\n",
    "tirads_points_cv = np.dot(X_cv, w.T).flatten()\n",
    "\n",
    "y_true_tirads_cv = df_cv.Cancer\n",
    "\n",
    "y_pred_tirads_cv_follow = np.zeros_like(tirads_points_cv)\n",
    "for i in range(len(tirads_points_cv)):\n",
    "    p = tirads_points_cv[i]\n",
    "    s = size_tirads[i]\n",
    "    if (p == 3 and s >= 15) or (4 <= p <= 6 and s >= 10) or (p >= 7 and s >= 5):\n",
    "        y_pred_tirads_cv_follow[i] = 1.\n",
    "\n",
    "y_pred_tirads_cv_fna = np.zeros_like(tirads_points_cv)\n",
    "for i in range(len(tirads_points_cv)):\n",
    "    p = tirads_points_cv[i]\n",
    "    s = size_tirads[i]\n",
    "    if (p == 3 and s >= 25) or (4 <= p <= 6 and s >= 15) or (p >= 7 and s >= 10):\n",
    "        y_pred_tirads_cv_fna[i] = 1."
   ]
  },
  {
   "cell_type": "markdown",
   "metadata": {},
   "source": [
    "### Deep learning"
   ]
  },
  {
   "cell_type": "code",
   "execution_count": 10,
   "metadata": {},
   "outputs": [
    {
     "name": "stdout",
     "output_type": "stream",
     "text": [
      "dl_level3_p = 23.2394366197\n",
      "dl_level4_p = 43.2707355243\n",
      "dl_level5_p = 81.220657277\n"
     ]
    }
   ],
   "source": [
    "dl_level3_p = percentileofscore(tirads_points_cv, 2.5)\n",
    "dl_level4_p = percentileofscore(tirads_points_cv, 3.5)\n",
    "dl_level5_p = percentileofscore(tirads_points_cv, 6.5)\n",
    "print('dl_level3_p = {}'.format(dl_level3_p))\n",
    "print('dl_level4_p = {}'.format(dl_level4_p))\n",
    "print('dl_level5_p = {}'.format(dl_level5_p))"
   ]
  },
  {
   "cell_type": "code",
   "execution_count": 11,
   "metadata": {},
   "outputs": [
    {
     "name": "stdout",
     "output_type": "stream",
     "text": [
      "dl_th3 = 0.342462082039\n",
      "dl_th4 = 0.433435710508\n",
      "dl_th5 = 0.617465653071\n"
     ]
    }
   ],
   "source": [
    "y_score_dl_cv = df_dl['Prediction'].as_matrix()\n",
    "y_true_dl_cv = df_dl['Cancer'].as_matrix()\n",
    "y_dl_fold = df_dl['Fold'].as_matrix()\n",
    "df_features['ID'] = features_ids\n",
    "df_features['Points'] = tirads_points_cv\n",
    "df_features = df_features.merge(df_dl[['ID', 'Fold']], on='ID')\n",
    "\n",
    "# dl_level3_p_fold = {}\n",
    "# dl_level4_p_fold = {}\n",
    "# dl_level5_p_fold = {}\n",
    "# for i in range(10):\n",
    "#     tirads_points_cv_fold = df_features[df_features.Fold == 1]['Points'].as_matrix().flatten()\n",
    "#     dl_level3_p_fold[i] = percentileofscore(tirads_points_cv_fold, 2.5)\n",
    "#     dl_level4_p_fold[i] = percentileofscore(tirads_points_cv_fold, 3.5)\n",
    "#     dl_level5_p_fold[i] = percentileofscore(tirads_points_cv_fold, 6.5)\n",
    "\n",
    "dl_th3_fold = {}\n",
    "dl_th4_fold = {}\n",
    "dl_th5_fold = {}\n",
    "for i in range(10):\n",
    "    y_score_dl_cv_train = df_dl_fold[i]['Prediction'].as_matrix()\n",
    "    y_true_dl_cv_train = df_dl_fold[i]['Cancer'].as_matrix()\n",
    "#     dl_level3_p = dl_level3_p_fold[i]\n",
    "#     dl_level4_p = dl_level4_p_fold[i]\n",
    "#     dl_level5_p = dl_level5_p_fold[i]\n",
    "    dl_th3_fold[i] = np.percentile(y_score_dl_cv_train, dl_level3_p)\n",
    "    dl_th4_fold[i] = np.percentile(y_score_dl_cv_train, dl_level4_p)\n",
    "    dl_th5_fold[i] = np.percentile(y_score_dl_cv_train, dl_level5_p)\n",
    "\n",
    "dl_th3 = np.mean(dl_th3_fold.values())\n",
    "dl_th4 = np.mean(dl_th4_fold.values())\n",
    "dl_th5 = np.mean(dl_th5_fold.values())\n",
    "\n",
    "print('dl_th3 = {}'.format(dl_th3))\n",
    "print('dl_th4 = {}'.format(dl_th4))\n",
    "print('dl_th5 = {}'.format(dl_th5))\n",
    "\n",
    "y_pred_dl_cv_follow = np.zeros_like(y_score_dl_cv)\n",
    "for i in range(len(y_score_dl_cv)):\n",
    "    p = y_score_dl_cv[i]\n",
    "    s = size_dl[i]\n",
    "#     dl_th3 = dl_th3_fold[y_dl_fold[i]]\n",
    "#     dl_th4 = dl_th4_fold[y_dl_fold[i]]\n",
    "#     dl_th5 = dl_th5_fold[y_dl_fold[i]]\n",
    "    if (dl_th3 < p <= dl_th4 and s >= 15) or (dl_th4 < p <= dl_th5 and s >= 10) or (dl_th5 < p and s >= 5):\n",
    "        y_pred_dl_cv_follow[i] = 1.\n",
    "\n",
    "y_pred_dl_cv_fna = np.zeros_like(y_score_dl_cv)\n",
    "for i in range(len(y_score_dl_cv)):\n",
    "    p = y_score_dl_cv[i]\n",
    "    s = size_dl[i]\n",
    "    if (dl_th3 < p <= dl_th4 and s >= 25) or (dl_th4 < p <= dl_th5 and s >= 15) or (dl_th5 < p and s >= 10):\n",
    "        y_pred_dl_cv_fna[i] = 1."
   ]
  },
  {
   "cell_type": "markdown",
   "metadata": {},
   "source": [
    "### Results analysis"
   ]
  },
  {
   "cell_type": "code",
   "execution_count": 14,
   "metadata": {},
   "outputs": [
    {
     "name": "stdout",
     "output_type": "stream",
     "text": [
      "Deep learning: 0.78 [0.74; 0.82]\n",
      "ACR TI-RADS: 0.8 [0.76; 0.84]\n"
     ]
    }
   ],
   "source": [
    "fpr_dl, tpr_dl, _ = roc_curve(y_true_dl_cv, y_score_dl_cv)\n",
    "roc_auc_dl = roc_auc_ci(y_true_dl_cv, y_score_dl_cv)\n",
    "print('Deep learning: {} [{}; {}]'.format(roc_auc_dl[1], roc_auc_dl[0], roc_auc_dl[2]))\n",
    "roc_auc_dl = roc_auc_dl[1]\n",
    "\n",
    "fpr_tirads, tpr_tirads, _ = roc_curve(y_true_tirads_cv, tirads_points_cv)\n",
    "roc_auc_tirads = roc_auc_ci(y_true_tirads_cv, tirads_points_cv)\n",
    "print('ACR TI-RADS: {} [{}; {}]'.format(roc_auc_tirads[1], roc_auc_tirads[0], roc_auc_tirads[2]))\n",
    "roc_auc_tirads = roc_auc_tirads[1]\n",
    "\n",
    "fpr, tpr, _ = roc_curve(y_true_dl_cv, y_pred_dl_cv_follow)\n",
    "fpr_dl_point_follow = fpr[1]\n",
    "tpr_dl_point_follow = tpr[1]\n",
    "\n",
    "fpr, tpr, _ = roc_curve(y_true_dl_cv, y_pred_dl_cv_fna)\n",
    "fpr_dl_point_fna = fpr[1]\n",
    "tpr_dl_point_fna = tpr[1]\n",
    "\n",
    "fpr, tpr, _ = roc_curve(y_true_tirads_cv, y_pred_tirads_cv_follow)\n",
    "fpr_tirads_point_follow = fpr[1]\n",
    "tpr_tirads_point_follow = tpr[1]\n",
    "\n",
    "fpr, tpr, _ = roc_curve(y_true_tirads_cv, y_pred_tirads_cv_fna)\n",
    "fpr_tirads_point_fna = fpr[1]\n",
    "tpr_tirads_point_fna = tpr[1]"
   ]
  },
  {
   "cell_type": "code",
   "execution_count": 13,
   "metadata": {},
   "outputs": [
    {
     "data": {
      "image/png": "[encoded data removed]",
      "text/plain": [
       "<matplotlib.figure.Figure at 0x106462690>"
      ]
     },
     "metadata": {},
     "output_type": "display_data"
    }
   ],
   "source": [
    "plt.figure(figsize=(12, 12))\n",
    "plot_roc(fpr_tirads, tpr_tirads, roc_auc_tirads, color='red', label='Expert Reader ')\n",
    "plot_roc(fpr_dl, tpr_dl, roc_auc_dl, color='black', label='Deep learning ')\n",
    "# plt.scatter(fpr_tirads_point_fna, tpr_tirads_point_fna, s=196, color='red', marker='+', label='TI-RADS (FNA)')\n",
    "# plt.scatter(fpr_dl_point_fna, tpr_dl_point_fna, s=196, color='black', marker='+', label='Deep learning (FNA)')\n",
    "# plt.scatter(fpr_tirads_point_follow, tpr_tirads_point_follow, s=144, color='red', marker='x', label='TI-RADS (follow-up)')\n",
    "# plt.scatter(fpr_dl_point_follow, tpr_dl_point_follow, s=144, color='black', marker='x', label='Deep learning (follow-up)')\n",
    "plt.plot([0, 1], [0, 1], color='gray', lw=1, linestyle='--')\n",
    "plt.xlim([0.0, 1.0])\n",
    "plt.ylim([0.0, 1.0])\n",
    "plt.tick_params(axis='both', which='major', labelsize=16)\n",
    "plt.title('', fontsize='xx-large')\n",
    "plt.xlabel('1 - Specificity', fontsize=24)\n",
    "plt.ylabel('Sensitivity', fontsize=24)\n",
    "plt.legend(loc='lower right', fontsize=22)\n",
    "plt.grid(color='silver', alpha=0.3, linestyle='--', linewidth=1)"
   ]
  },
  {
   "cell_type": "code",
   "execution_count": null,
   "metadata": {
    "collapsed": true
   },
   "outputs": [],
   "source": []
  }
 ],
 "metadata": {
  "kernelspec": {
   "display_name": "Python 2",
   "language": "python",
   "name": "python2"
  },
  "language_info": {
   "codemirror_mode": {
    "name": "ipython",
    "version": 2
   },
   "file_extension": ".py",
   "mimetype": "text/x-python",
   "name": "python",
   "nbconvert_exporter": "python",
   "pygments_lexer": "ipython2",
   "version": "2.7.14"
  }
 },
 "nbformat": 4,
 "nbformat_minor": 2
}
