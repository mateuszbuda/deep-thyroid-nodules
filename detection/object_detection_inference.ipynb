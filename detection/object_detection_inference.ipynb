{
 "cells": [
  {
   "cell_type": "markdown",
   "metadata": {},
   "source": [
    "# Object Detection Demo\n",
    "Welcome to the object detection inference walkthrough!  This notebook will walk you step by step through the process of using a pre-trained model to detect objects in an image. Make sure to follow the [installation instructions](https://github.com/tensorflow/models/blob/master/research/object_detection/g3doc/installation.md) before you start."
   ]
  },
  {
   "cell_type": "markdown",
   "metadata": {},
   "source": [
    "# Imports"
   ]
  },
  {
   "cell_type": "code",
   "execution_count": 1,
   "metadata": {
    "scrolled": true
   },
   "outputs": [
    {
     "name": "stderr",
     "output_type": "stream",
     "text": [
      "/usr/local/lib/python2.7/dist-packages/h5py/__init__.py:36: FutureWarning: Conversion of the second argument of issubdtype from `float` to `np.floating` is deprecated. In future, it will be treated as `np.float64 == np.dtype(float).type`.\n",
      "  from ._conv import register_converters as _register_converters\n"
     ]
    }
   ],
   "source": [
    "import numpy as np\n",
    "import os\n",
    "import sys\n",
    "import csv\n",
    "import tensorflow as tf\n",
    "\n",
    "from random import randint, seed\n",
    "from glob import glob\n",
    "from PIL import Image\n",
    "from medpy.filter.binary import largest_connected_component\n",
    "from scipy.ndimage.morphology import binary_dilation\n",
    "import png\n",
    "\n",
    "# This is needed since the notebook is stored in the object_detection folder.\n",
    "from object_detection.utils import ops as utils_ops\n",
    "\n",
    "if tf.__version__ < '1.4.0':\n",
    "    raise ImportError('Please upgrade your tensorflow installation to v1.4.* or later!')"
   ]
  },
  {
   "cell_type": "markdown",
   "metadata": {},
   "source": [
    "## Object detection imports\n",
    "Here are the imports from the object detection module."
   ]
  },
  {
   "cell_type": "code",
   "execution_count": 2,
   "metadata": {
    "collapsed": true
   },
   "outputs": [],
   "source": [
    "from object_detection.utils import label_map_util\n",
    "\n",
    "from object_detection.utils import visualization_utils as vis_util"
   ]
  },
  {
   "cell_type": "markdown",
   "metadata": {},
   "source": [
    "# Model preparation "
   ]
  },
  {
   "cell_type": "markdown",
   "metadata": {},
   "source": [
    "## Variables\n",
    "\n",
    "Any model exported using the `export_inference_graph.py` tool can be loaded here simply by changing `PATH_TO_CKPT` to point to a new .pb file.  "
   ]
  },
  {
   "cell_type": "code",
   "execution_count": 18,
   "metadata": {
    "collapsed": true
   },
   "outputs": [],
   "source": [
    "# Path to frozen detection graph. This is the actual model that is used for the object detection.\n",
    "FOLD = 6\n",
    "PATH_TO_CKPT = '/media/maciej/Thyroid/thyroid-nodules/detection/{}/model/inference/frozen_inference_graph.pb'.format(FOLD)\n",
    "\n",
    "# List of the strings that is used to add correct label for each box.\n",
    "PATH_TO_LABELS = './label_map.pbtxt'\n",
    "\n",
    "NUM_CLASSES = 1"
   ]
  },
  {
   "cell_type": "markdown",
   "metadata": {},
   "source": [
    "## Load a (frozen) Tensorflow model into memory."
   ]
  },
  {
   "cell_type": "code",
   "execution_count": 19,
   "metadata": {
    "collapsed": true
   },
   "outputs": [],
   "source": [
    "detection_graph = tf.Graph()\n",
    "with detection_graph.as_default():\n",
    "    od_graph_def = tf.GraphDef()\n",
    "    with tf.gfile.GFile(PATH_TO_CKPT, 'rb') as fid:\n",
    "        serialized_graph = fid.read()\n",
    "        od_graph_def.ParseFromString(serialized_graph)\n",
    "        tf.import_graph_def(od_graph_def, name='')"
   ]
  },
  {
   "cell_type": "markdown",
   "metadata": {},
   "source": [
    "## Loading label map\n",
    "Label maps map indices to category names, so that when our convolution network predicts `5`, we know that this corresponds to `airplane`.  Here we use internal utility functions, but anything that returns a dictionary mapping integers to appropriate string labels would be fine"
   ]
  },
  {
   "cell_type": "code",
   "execution_count": 20,
   "metadata": {
    "collapsed": true
   },
   "outputs": [],
   "source": [
    "label_map = label_map_util.load_labelmap(PATH_TO_LABELS)\n",
    "categories = label_map_util.convert_label_map_to_categories(label_map, max_num_classes=NUM_CLASSES, use_display_name=True)\n",
    "category_index = label_map_util.create_category_index(categories)"
   ]
  },
  {
   "cell_type": "markdown",
   "metadata": {},
   "source": [
    "## Helper code"
   ]
  },
  {
   "cell_type": "code",
   "execution_count": 21,
   "metadata": {
    "collapsed": true
   },
   "outputs": [],
   "source": [
    "def load_image_into_numpy_array(image):\n",
    "    (im_width, im_height) = image.size\n",
    "    return np.array(image.getdata()).reshape((im_height, im_width, 3)).astype(np.uint8)\n",
    "\n",
    "def numpy2png(image, path):\n",
    "    with open(path, 'wb') as pngfile:\n",
    "        pngWriter = png.Writer(image.shape[1], image.shape[0], greyscale=False, alpha=False, bitdepth=8)\n",
    "        pngWriter.write(pngfile, np.reshape(image, (-1, np.prod(image.shape[1:]))))\n",
    "\n",
    "def bboxes_iou(boxA, boxB):\n",
    "    boxA = boxA * 1000\n",
    "    boxB = boxB * 1000\n",
    "    # determine the (x, y)-coordinates of the intersection rectangle\n",
    "    yA = max(boxA[0], boxB[0]) \n",
    "    xA = max(boxA[1], boxB[1])\n",
    "    yB = min(boxA[2], boxB[2])\n",
    "    xB = min(boxA[3], boxB[3])\n",
    " \n",
    "    # compute the area of intersection rectangle\n",
    "    interArea = (xB - xA + 1) * (yB - yA + 1)\n",
    " \n",
    "    # compute the area of both the prediction and ground-truth\n",
    "    # rectangles\n",
    "    boxAArea = (boxA[2] - boxA[0] + 1) * (boxA[3] - boxA[1] + 1)\n",
    "    boxBArea = (boxB[2] - boxB[0] + 1) * (boxB[3] - boxB[1] + 1)\n",
    " \n",
    "    # compute the intersection over union by taking the intersection\n",
    "    # area and dividing it by the sum of prediction + ground-truth\n",
    "    # areas - the interesection area\n",
    "    iou = interArea / float(boxAArea + boxBArea - interArea)\n",
    " \n",
    "    # return the intersection over union value\n",
    "    return iou\n",
    "\n",
    "def fname2pid(fname):\n",
    "    return fname.split('/')[-1].split('.')[0].lstrip('0')\n",
    "\n",
    "def get_gt_bboxes(calipers_path, image_H, image_W):\n",
    "    gt_bboxes = []\n",
    "    for line in open(calipers_path):\n",
    "        values = line.rstrip().split(',')\n",
    "        x = float(values[1])\n",
    "        y = float(values[0])\n",
    "        bbox = np.zeros((4,))\n",
    "        bbox[0] = np.max([0.0, (y - 8) / image_H])\n",
    "        bbox[1] = np.max([0.0, (x - 8) / image_W])\n",
    "        bbox[2] = np.min([1.0, (y + 8) / image_H])\n",
    "        bbox[3] = np.min([1.0, (x + 8) / image_W])\n",
    "        gt_bboxes.append(bbox)\n",
    "        return gt_bboxes"
   ]
  },
  {
   "cell_type": "markdown",
   "metadata": {},
   "source": [
    "\n",
    "# Prepare images for inference"
   ]
  },
  {
   "cell_type": "code",
   "execution_count": 22,
   "metadata": {
    "collapsed": true
   },
   "outputs": [],
   "source": [
    "TEST_IMAGE_PATHS = []\n",
    "\n",
    "image_files = glob('/media/maciej/Thyroid/thyroid-nodules/detection/Nodules-detection/*.PNG')\n",
    "pid_set = set()\n",
    "for image_f in image_files:\n",
    "    pid = fname2pid(image_f)\n",
    "    pid_set.add(pid)\n",
    "\n",
    "seed(42)\n",
    "test_folds = {}  # maps pid to its test fold number in 10-fold cross-validation split\n",
    "for pid in sorted(pid_set):\n",
    "    test_folds[pid] = randint(0, 9)\n",
    "\n",
    "for image_f in image_files:\n",
    "    pid = fname2pid(image_f)\n",
    "    if test_folds[pid] == FOLD:\n",
    "        TEST_IMAGE_PATHS.append(image_f)"
   ]
  },
  {
   "cell_type": "markdown",
   "metadata": {},
   "source": [
    "# Detection"
   ]
  },
  {
   "cell_type": "code",
   "execution_count": 23,
   "metadata": {
    "collapsed": true
   },
   "outputs": [],
   "source": [
    "def run_inference_for_single_image(image, graph):\n",
    "    with graph.as_default():\n",
    "        with tf.Session() as sess:\n",
    "            # Get handles to input and output tensors\n",
    "            ops = tf.get_default_graph().get_operations()\n",
    "            all_tensor_names = {output.name for op in ops for output in op.outputs}\n",
    "            tensor_dict = {}\n",
    "            for key in [\n",
    "                'num_detections', 'detection_boxes', 'detection_scores',\n",
    "                'detection_classes', 'detection_masks'\n",
    "            ]:\n",
    "                tensor_name = key + ':0'\n",
    "                if tensor_name in all_tensor_names:\n",
    "                    tensor_dict[key] = tf.get_default_graph().get_tensor_by_name(tensor_name)\n",
    "            if 'detection_masks' in tensor_dict:\n",
    "                # The following processing is only for single image\n",
    "                detection_boxes = tf.squeeze(tensor_dict['detection_boxes'], [0])\n",
    "                detection_masks = tf.squeeze(tensor_dict['detection_masks'], [0])\n",
    "                # Reframe is required to translate mask from box coordinates to image coordinates and fit the image size.\n",
    "                real_num_detection = tf.cast(tensor_dict['num_detections'][0], tf.int32)\n",
    "                detection_boxes = tf.slice(detection_boxes, [0, 0], [real_num_detection, -1])\n",
    "                detection_masks = tf.slice(detection_masks, [0, 0, 0], [real_num_detection, -1, -1])\n",
    "                detection_masks_reframed = utils_ops.reframe_box_masks_to_image_masks(\n",
    "                    detection_masks, detection_boxes, image.shape[0], image.shape[1])\n",
    "                detection_masks_reframed = tf.cast(\n",
    "                    tf.greater(detection_masks_reframed, 0.0), tf.uint8)\n",
    "                # Follow the convention by adding back the batch dimension\n",
    "                tensor_dict['detection_masks'] = tf.expand_dims(\n",
    "                    detection_masks_reframed, 0)\n",
    "            image_tensor = tf.get_default_graph().get_tensor_by_name('image_tensor:0')\n",
    "            \n",
    "            # Run inference\n",
    "            output_dict = sess.run(tensor_dict,\n",
    "                                   feed_dict={image_tensor: np.expand_dims(image, 0)})\n",
    "            \n",
    "            # all outputs are float32 numpy arrays, so convert types as appropriate\n",
    "            output_dict['num_detections'] = int(output_dict['num_detections'][0])\n",
    "            output_dict['detection_classes'] = output_dict[\n",
    "                'detection_classes'][0].astype(np.uint8)\n",
    "            output_dict['detection_boxes'] = output_dict['detection_boxes'][0]\n",
    "            output_dict['detection_scores'] = output_dict['detection_scores'][0]\n",
    "            if 'detection_masks' in output_dict:\n",
    "                output_dict['detection_masks'] = output_dict['detection_masks'][0]\n",
    "    return output_dict"
   ]
  },
  {
   "cell_type": "markdown",
   "metadata": {},
   "source": [
    "# Exporting images and bounding boxes"
   ]
  },
  {
   "cell_type": "code",
   "execution_count": 25,
   "metadata": {},
   "outputs": [
    {
     "name": "stdout",
     "output_type": "stream",
     "text": [
      "below 0.5 threshold /media/maciej/Thyroid/thyroid-nodules/detection/Nodules-detection/0833_1.long.cal.PNG\n"
     ]
    }
   ],
   "source": [
    "PATH_TO_SAVE_IMG = '/media/maciej/Thyroid/thyroid-nodules/detection/Nodules-results'\n",
    "PATH_TO_SAVE_CSV = '/media/maciej/Thyroid/thyroid-nodules/detection/Calipers-results'\n",
    "\n",
    "min_score_thresh = 0.5\n",
    "overlay_bboxes = True\n",
    "\n",
    "for image_path in ['/media/maciej/Thyroid/thyroid-nodules/detection/Nodules-detection/0833_1.long.cal.PNG']: #TEST_IMAGE_PATHS:\n",
    "    image = Image.open(image_path)\n",
    "    # the array based representation of the image will be used later in order to prepare the\n",
    "    # result image with boxes and labels on it.\n",
    "    image_np = load_image_into_numpy_array(image)\n",
    "    x_pad_size = 0\n",
    "    if float(image_np.shape[0]) / image_np.shape[1] > 1.5:\n",
    "        print('padding {}'.format(image_path))\n",
    "        x_pad_size = int(0.1 * image_np.shape[1])\n",
    "        image_np = np.pad(image_np, ((0, 0), (x_pad_size, x_pad_size), (0, 0)), 'constant')\n",
    "    # Actual detection.\n",
    "    output_dict = run_inference_for_single_image(image_np, detection_graph)\n",
    "\n",
    "    # get ground truth boxes\n",
    "#     csv_path = image_path.replace('Nodules', 'Calipers').replace('PNG', 'csv')\n",
    "#     gt_bboxes = get_gt_bboxes(csv_path, image_np.shape[0], image_np.shape[1] - (2 * x_pad_size))\n",
    "    \n",
    "    # get bounding box for the ROI\n",
    "    image_gs = np.mean(image_np, axis=-1)\n",
    "    image_bw = np.greater(image_gs, 3.0)\n",
    "    image_bw = binary_dilation(image_bw, np.array([[0, 1, 0], [1, 1, 1], [0, 1, 0]]))\n",
    "    image_th = largest_connected_component(image_bw)\n",
    "    cc_indices = np.argwhere(image_th)\n",
    "    y_min_th = float(np.min(cc_indices[:, 0])) / image_np.shape[0]\n",
    "    y_max_th = float(np.max(cc_indices[:, 0])) / image_np.shape[0]\n",
    "    x_min_th = float(np.min(cc_indices[:, 1])) / image_np.shape[1]\n",
    "    x_max_th = float(np.max(cc_indices[:, 1])) / image_np.shape[1]\n",
    "    \n",
    "    # filter the result\n",
    "    detection_boxes = []\n",
    "    detection_scores = []\n",
    "    detection_classes = []\n",
    "    for i in range(output_dict['num_detections']):\n",
    "        score = output_dict['detection_scores'][i]\n",
    "        # filter for score\n",
    "        if score > min_score_thresh:\n",
    "            # and filter for points outside of the ROI\n",
    "            bbox = output_dict['detection_boxes'][i]\n",
    "            y = (bbox[0] + bbox[2]) / 2\n",
    "            x = (bbox[1] + bbox[3]) / 2\n",
    "            if y < y_min_th or y > y_max_th or x < x_min_th or x > x_max_th:\n",
    "                continue\n",
    "            # and filter for overlapping points\n",
    "            if any([(db[0] <= y <= db[2] and db[1] <= x <= db[3]) for db in detection_boxes]):\n",
    "                continue\n",
    "            # and filter for aspect ratio\n",
    "            bbox_h = int((bbox[2] - bbox[0]) * image_np.shape[0])\n",
    "            bbox_w = int((bbox[3] - bbox[1]) * image_np.shape[1])\n",
    "            if bbox_h > 2 * bbox_w:\n",
    "                print('aspect ratio {}'.format(image_path))\n",
    "                continue\n",
    "            # and filter for bbox size\n",
    "            min_dim = np.min([bbox_h, bbox_w])\n",
    "            if int(min_dim) > 24:\n",
    "                print('size {}'.format(image_path))\n",
    "                continue\n",
    "            detection_boxes.append(output_dict['detection_boxes'][i])\n",
    "            detection_scores.append(output_dict['detection_scores'][i])\n",
    "            detection_classes.append(output_dict['detection_classes'][i])\n",
    "    \n",
    "    if len(detection_boxes) < 2:\n",
    "        print('below 0.5 threshold {}'.format(image_path))\n",
    "    \n",
    "    det_index = -1\n",
    "    while len(detection_boxes) < 2:\n",
    "        det_index += 1\n",
    "        if det_index >= len(output_dict['detection_boxes']):\n",
    "            break\n",
    "        # again filter for points outside of the ROI\n",
    "        bbox = output_dict['detection_boxes'][det_index]\n",
    "        y = (bbox[0] + bbox[2]) / 2\n",
    "        x = (bbox[1] + bbox[3]) / 2\n",
    "        if y < y_min_th or y > y_max_th or x < x_min_th or x > x_max_th:\n",
    "            continue\n",
    "        # and again filter for overlapping points\n",
    "        if any([(db[0] <= y <= db[2] and db[1] <= x <= db[3]) for db in detection_boxes]):\n",
    "            continue\n",
    "        # and again filter for aspect ratio\n",
    "        bbox_h = int((bbox[2] - bbox[0]) * image_np.shape[0])\n",
    "        bbox_w = int((bbox[3] - bbox[1]) * image_np.shape[1])\n",
    "        if bbox_h > 2 * bbox_w:\n",
    "            continue\n",
    "        # and again filter for bbox size\n",
    "        min_dim = np.min([bbox_h, bbox_w])\n",
    "        if int(min_dim) > 24:\n",
    "            continue\n",
    "        detection_boxes.append(output_dict['detection_boxes'][det_index])\n",
    "        detection_scores.append(output_dict['detection_scores'][det_index])\n",
    "        detection_classes.append(output_dict['detection_classes'][det_index])\n",
    "\n",
    "    # Visualization of the results of a detection.\n",
    "    vis_util.visualize_boxes_and_labels_on_image_array(\n",
    "        image_np,\n",
    "        np.array(detection_boxes),\n",
    "        np.array(detection_classes),\n",
    "        np.array(detection_scores),\n",
    "        category_index,\n",
    "        instance_masks=output_dict.get('detection_masks'),\n",
    "        use_normalized_coordinates=True,\n",
    "        line_thickness=1,\n",
    "        min_score_thresh=0.0)\n",
    "    \n",
    "    img_result_path = os.path.join(PATH_TO_SAVE_IMG, os.path.split(image_path)[-1])\n",
    "    csv_result_path = os.path.join(PATH_TO_SAVE_CSV, os.path.split(image_path)[-1])\n",
    "    csv_result_path = csv_result_path.replace('PNG', 'csv')\n",
    "    \n",
    "    numpy2png(image_np[:, x_pad_size:-x_pad_size-1, :], img_result_path)\n",
    "    \n",
    "    for i in range(len(detection_boxes)):\n",
    "        bbox = detection_boxes[i]\n",
    "        ymin = int(bbox[0] * image_np.shape[0])\n",
    "        xmin = int(bbox[1] * image_np.shape[1]) - x_pad_size\n",
    "        ymax = int(bbox[2] * image_np.shape[0])\n",
    "        xmax = int(bbox[3] * image_np.shape[1]) - x_pad_size\n",
    "#         with open(csv_result_path, 'a') as f:\n",
    "#             writer = csv.writer(f)\n",
    "#             writer.writerow([(ymin + ymax) / 2, (xmin + xmax) / 2, detection_scores[i]])\n"
   ]
  },
  {
   "cell_type": "code",
   "execution_count": null,
   "metadata": {
    "collapsed": true
   },
   "outputs": [],
   "source": []
  }
 ],
 "metadata": {
  "kernelspec": {
   "display_name": "Python 2",
   "language": "python",
   "name": "python2"
  },
  "language_info": {
   "codemirror_mode": {
    "name": "ipython",
    "version": 2
   },
   "file_extension": ".py",
   "mimetype": "text/x-python",
   "name": "python",
   "nbconvert_exporter": "python",
   "pygments_lexer": "ipython2",
   "version": "2.7.12"
  }
 },
 "nbformat": 4,
 "nbformat_minor": 2
}
